{
 "cells": [
  {
   "cell_type": "code",
   "execution_count": null,
   "id": "c210831d",
   "metadata": {},
   "outputs": [],
   "source": [
    "# Gros exemple\n",
    "\n",
    "conn = sqlite3.connect(\"ma_base.db\")\n",
    "cursor = conn.cursor()\n",
    "cursor.execute(\"CREATE TABLE movie(title, year, score)\")\n",
    "\n",
    "res = cursor.execute(\"SELECT name FROM sqlite_master\")\n",
    "res.fetchall()\n",
    "\n",
    "cursor.execute(\"\"\"\n",
    "    INSERT INTO movie VALUES\n",
    "        ('Monty Python and the Holy Grail', 1975, 8.2),\n",
    "        ('And Now for Something Completely Different', 1971, 7.5)\n",
    "\"\"\")\n",
    "\n",
    "conn.commit() # Permet de valider toutes les requêtes du style INSERT, UPDATE, DELETE etc.\n",
    "# tous ce qui est modif de la bdd\n",
    "\n",
    "res = cursor.execute(\"SELECT score FROM movie\")\n",
    "res.fetchall()\n",
    "\n",
    "data = [\n",
    "    (\"Monty Python Live at the Hollywood Bowl\", 1982, 7.9),\n",
    "    (\"Monty Python's The Meaning of Life\", 1983, 7.5),\n",
    "    (\"Monty Python's Life of Brian\", 1979, 8.0),\n",
    "]\n",
    "cursor.executemany(\"INSERT INTO movie VALUES(?, ?, ?)\", data)\n",
    "conn.commit()  # Remember to commit the transaction after executing INSERT.\n",
    "\n",
    "# Deux méthodes pour afficher les lignes\n",
    "cursor.execute(\"SELECT year, title FROM movie ORDER BY year\").fetchall() # OU\n",
    "for row in cursor.execute(\"SELECT year, title FROM movie ORDER BY year\"):\n",
    "    print(row)\n",
    "\n",
    "conn.close()\n"
   ]
  },
  {
   "cell_type": "code",
   "execution_count": null,
   "id": "0ec4e085",
   "metadata": {},
   "outputs": [],
   "source": [
    "#Exemple chatgpt\n",
    "\n",
    "cursor = conn.cursor()\n",
    "\n",
    "# Création d'une table exemple\n",
    "cursor.execute(\"\"\"\n",
    "CREATE TABLE IF NOT EXISTS utilisateurs (\n",
    "    id INTEGER PRIMARY KEY AUTOINCREMENT,\n",
    "    nom TEXT,\n",
    "    age INTEGER\n",
    ")\n",
    "\"\"\")\n",
    "\n",
    "# Insertion de données\n",
    "cursor.execute(\"INSERT INTO utilisateurs (nom, age) VALUES (?, ?)\", (\"Alice\", 30))\n",
    "cursor.execute(\"INSERT INTO utilisateurs (nom, age) VALUES (?, ?)\", (\"Bob\", 25))\n",
    "\n",
    "conn.commit()\n",
    "conn.close()"
   ]
  },
  {
   "cell_type": "code",
   "execution_count": 1,
   "id": "06a8cdc8",
   "metadata": {},
   "outputs": [],
   "source": [
    "import sqlite3\n",
    "import pandas as pd\n",
    "import requests"
   ]
  },
  {
   "cell_type": "code",
   "execution_count": 2,
   "id": "f741c102",
   "metadata": {},
   "outputs": [],
   "source": [
    "conn = sqlite3.connect(\"data/test.db\")\n",
    "curs = conn.cursor()"
   ]
  },
  {
   "cell_type": "code",
   "execution_count": 3,
   "id": "bb8879ea",
   "metadata": {},
   "outputs": [
    {
     "data": {
      "text/plain": [
       "<sqlite3.Cursor at 0x179e3c82840>"
      ]
     },
     "execution_count": 3,
     "metadata": {},
     "output_type": "execute_result"
    }
   ],
   "source": [
    "curs.execute(\"\"\"\n",
    "CREATE TABLE IF NOT EXISTS produits (\n",
    "    id_produit TEXT PRIMARY KEY,\n",
    "    nom TEXT,\n",
    "    prix REAL,\n",
    "    stock INTEGER\n",
    ");\n",
    "\"\"\")"
   ]
  },
  {
   "cell_type": "code",
   "execution_count": 4,
   "id": "68a7659e",
   "metadata": {},
   "outputs": [
    {
     "data": {
      "text/html": [
       "<div>\n",
       "<style scoped>\n",
       "    .dataframe tbody tr th:only-of-type {\n",
       "        vertical-align: middle;\n",
       "    }\n",
       "\n",
       "    .dataframe tbody tr th {\n",
       "        vertical-align: top;\n",
       "    }\n",
       "\n",
       "    .dataframe thead th {\n",
       "        text-align: right;\n",
       "    }\n",
       "</style>\n",
       "<table border=\"1\" class=\"dataframe\">\n",
       "  <thead>\n",
       "    <tr style=\"text-align: right;\">\n",
       "      <th></th>\n",
       "      <th>id_produit</th>\n",
       "    </tr>\n",
       "  </thead>\n",
       "  <tbody>\n",
       "  </tbody>\n",
       "</table>\n",
       "</div>"
      ],
      "text/plain": [
       "Empty DataFrame\n",
       "Columns: [id_produit]\n",
       "Index: []"
      ]
     },
     "execution_count": 4,
     "metadata": {},
     "output_type": "execute_result"
    }
   ],
   "source": [
    "val = pd.read_sql(\"SELECT id_produit FROM produits\", conn)\n",
    "val"
   ]
  },
  {
   "cell_type": "code",
   "execution_count": null,
   "id": "89e0d010",
   "metadata": {},
   "outputs": [],
   "source": [
    "type(val['id_produit'])"
   ]
  },
  {
   "cell_type": "code",
   "execution_count": null,
   "id": "aaf13663",
   "metadata": {},
   "outputs": [],
   "source": [
    "# Conditions\n",
    "prod_sql = pd.read_sql_table(\"produits\", \"data/test.db\")\n",
    "mags_sql = pd.read_sql_table(\"magasins\", \"data/test.db\")\n",
    "ventes_sql = pd.read_sql_table(\"ventes\", \"data/test.db\")"
   ]
  },
  {
   "cell_type": "code",
   "execution_count": null,
   "id": "73e90740",
   "metadata": {},
   "outputs": [],
   "source": [
    "# Import des packages\n",
    "import sqlite3\n",
    "import pandas as pd\n",
    "import requests\n",
    "\n",
    "# Création de la base en format db + créations des 3 tables\n",
    "conn = sqlite3.connect(\"ma_base.db\")\n",
    "curs = conn.cursor()\n",
    "\n",
    "curs.execute(\"\"\"\n",
    "CREATE TABLE IF NOT EXISTS produits (\n",
    "    id_produit TEXT PRIMARY KEY,\n",
    "    nom TEXT,\n",
    "    prix REAL,\n",
    "    stock INTEGER\n",
    ");\n",
    "\"\"\")\n",
    "\n",
    "curs.execute(\"\"\"\n",
    "CREATE TABLE IF NOT EXISTS magasins (\n",
    "    id_magasin INTEGER PRIMARY KEY,\n",
    "    ville TEXT,\n",
    "    nb_salaries INTEGER\n",
    ");\n",
    "\"\"\")\n",
    "\n",
    "curs.execute(\"\"\"\n",
    "CREATE TABLE IF NOT EXISTS ventes (\n",
    "    id_vente INTEGER PRIMARY KEY,\n",
    "    date TEXT,\n",
    "    id_produit INTEGER,\n",
    "    quantite INTEGER,\n",
    "    id_magasin INTEGER,\n",
    "    FOREIGN KEY (id_produit) REFERENCES produits(id_produit),\n",
    "    FOREIGN KEY (id_magasin) REFERENCES magasins(id_magasin)\n",
    ");\n",
    "\"\"\")\n",
    "\n",
    "# Chargement des données en csv\n",
    "dico={'ventes' : \"https://docs.google.com/spreadsheets/d/e/2PACX-1vSawI56WBC64foMT9pKCiY594fBZk9Lyj8_bxfgmq-8ck_jw1Z49qDeMatCWqBxehEVoM6U1zdYx73V/pub?gid=760830694&single=true&output=csv\",\n",
    "      'produits' : \"https://docs.google.com/spreadsheets/d/e/2PACX-1vSawI56WBC64foMT9pKCiY594fBZk9Lyj8_bxfgmq-8ck_jw1Z49qDeMatCWqBxehEVoM6U1zdYx73V/pub?gid=0&single=true&output=csv\",\n",
    "      'magasins' : \"https://docs.google.com/spreadsheets/d/e/2PACX-1vSawI56WBC64foMT9pKCiY594fBZk9Lyj8_bxfgmq-8ck_jw1Z49qDeMatCWqBxehEVoM6U1zdYx73V/pub?gid=714623615&single=true&output=csv\"}\n",
    "\n",
    "for nom, url in dico.items():\n",
    "    reponse=requests.get(url)\n",
    "    data=reponse.text\n",
    "    with open(nom+\".csv\", 'w') as f:\n",
    "        f.write(data)\n",
    "        f.close()\n",
    "    \n",
    "# renommage des colonnes et correction des types de données\n",
    "prod = pd.read_csv(\"produits.csv\")\n",
    "mags = pd.read_csv(\"magasins.csv\")\n",
    "ventes = pd.read_csv(\"ventes.csv\")\n",
    "ventes[\"ID_vente\"]=range(1,ventes.shape[0]+1)\n",
    "\n",
    "prod.rename(columns={\"Nom\" : \"nom\",\n",
    "             \"ID RÃ©fÃ©rence produit\" : \"id_produit\",\n",
    "             \"Prix\" : \"prix\",\n",
    "             \"Stock\":\"stock\"}, inplace=True)\n",
    "\n",
    "mags.rename(columns={\"ID Magasin\" : \"id_magasin\",\n",
    "             \"Ville\" : \"ville\",\n",
    "             \"Nombre de salariÃ©s\" : \"nb_salaries\"}, inplace=True)\n",
    "\n",
    "ventes.rename(columns={\"Date\" : \"date\",\n",
    "               \"ID RÃ©fÃ©rence produit\" : \"id_produit\",\n",
    "               \"QuantitÃ©\" : \"quantite\",\n",
    "               \"ID Magasin\" : \"id_magasin\",\n",
    "               \"ID_vente\" : \"id_vente\"}, inplace=True)\n",
    "\n",
    "# Insertion des valeurs dans les tables à partir des pd.DataFrame \n",
    "prod.to_sql(\"produits\", conn, if_exists=\"append\", index=False)\n",
    "mags.to_sql(\"magasins\", conn, if_exists=\"append\", index=False)\n",
    "ventes.to_sql(\"ventes\", conn, if_exists=\"append\", index=False)\n",
    "\n",
    "conn.commit()\n",
    "conn.close()"
   ]
  },
  {
   "cell_type": "code",
   "execution_count": null,
   "id": "53e30cde",
   "metadata": {},
   "outputs": [],
   "source": []
  }
 ],
 "metadata": {
  "kernelspec": {
   "display_name": "stat",
   "language": "python",
   "name": "python3"
  },
  "language_info": {
   "codemirror_mode": {
    "name": "ipython",
    "version": 3
   },
   "file_extension": ".py",
   "mimetype": "text/x-python",
   "name": "python",
   "nbconvert_exporter": "python",
   "pygments_lexer": "ipython3",
   "version": "3.11.9"
  }
 },
 "nbformat": 4,
 "nbformat_minor": 5
}
